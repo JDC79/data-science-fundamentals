{
 "cells": [
  {
   "cell_type": "code",
   "execution_count": 1,
   "metadata": {},
   "outputs": [],
   "source": [
    "import pandas as pd"
   ]
  },
  {
   "cell_type": "code",
   "execution_count": 8,
   "metadata": {},
   "outputs": [
    {
     "name": "stdout",
     "output_type": "stream",
     "text": [
      "              Destination  Feedback_Score  Average_Hotel_Rating  \\\n",
      "0                   L'Man               2                   2.0   \n",
      "1         Unicorn Kingdom               8                   5.0   \n",
      "2              Cantafrica               7                   4.0   \n",
      "3              Lela Lland               6                   3.5   \n",
      "4                  Tubbox               4                   3.0   \n",
      "5                Fantasia               5                   3.5   \n",
      "6                  Utopia               2                   2.0   \n",
      "7               Spiceland               1                   1.0   \n",
      "8              Santa Land               9                   4.5   \n",
      "9                Fairydia               8                   5.0   \n",
      "10               Robloxia              10                   4.5   \n",
      "11         New Fidgetland               8                   5.0   \n",
      "12              Tantindia               7                   3.5   \n",
      "13  United Rainbow States               5                   2.0   \n",
      "14         Dotme Republic               6                   3.0   \n",
      "\n",
      "    All_Inclusive_Hotels         City  \n",
      "0                     10    L'Manburg  \n",
      "1                     12   Unicornica  \n",
      "2                      7         Cant  \n",
      "3                      8    Bear City  \n",
      "4                     21        Tubbo  \n",
      "5                      8     Crystaal  \n",
      "6                      5         Peep  \n",
      "7                     12      Saffron  \n",
      "8                     11  Grotto Town  \n",
      "9                      9      Sparkle  \n",
      "10                     6   Blocksberg  \n",
      "11                     7      Falsall  \n",
      "12                     3        Tanty  \n",
      "13                    14       Indigo  \n",
      "14                     5        Rocky  \n"
     ]
    }
   ],
   "source": [
    "data = pd.read_csv(\"hol.csv\")\n",
    "print(data)"
   ]
  },
  {
   "cell_type": "code",
   "execution_count": 2,
   "metadata": {},
   "outputs": [
    {
     "data": {
      "text/plain": [
       "(15, 5)"
      ]
     },
     "execution_count": 2,
     "metadata": {},
     "output_type": "execute_result"
    }
   ],
   "source": [
    "data = pd.read_csv(\"hol.csv\")\n",
    "\n",
    "#1. How many rows and colums in the file?\n",
    "data.shape"
   ]
  },
  {
   "cell_type": "code",
   "execution_count": 4,
   "metadata": {},
   "outputs": [
    {
     "name": "stdout",
     "output_type": "stream",
     "text": [
      "  Destination  Feedback_Score  Average_Hotel_Rating  All_Inclusive_Hotels  \\\n",
      "3  Lela Lland               6                   3.5                     8   \n",
      "4      Tubbox               4                   3.0                    21   \n",
      "5    Fantasia               5                   3.5                     8   \n",
      "6      Utopia               2                   2.0                     5   \n",
      "7   Spiceland               1                   1.0                    12   \n",
      "\n",
      "        City  \n",
      "3  Bear City  \n",
      "4      Tubbo  \n",
      "5   Crystaal  \n",
      "6       Peep  \n",
      "7    Saffron  \n"
     ]
    }
   ],
   "source": [
    "#2. Print row 3-8 (using iloc/loc)\n",
    "print(data.iloc[3:8])"
   ]
  },
  {
   "cell_type": "code",
   "execution_count": 6,
   "metadata": {},
   "outputs": [
    {
     "data": {
      "text/plain": [
       "9.2"
      ]
     },
     "execution_count": 6,
     "metadata": {},
     "output_type": "execute_result"
    }
   ],
   "source": [
    "#3. Mean number of all-inclusive hotels in all destinations.\n",
    "data[\"All_Inclusive_Hotels\"].mean()"
   ]
  },
  {
   "cell_type": "code",
   "execution_count": 7,
   "metadata": {},
   "outputs": [
    {
     "data": {
      "text/html": [
       "<div>\n",
       "<style scoped>\n",
       "    .dataframe tbody tr th:only-of-type {\n",
       "        vertical-align: middle;\n",
       "    }\n",
       "\n",
       "    .dataframe tbody tr th {\n",
       "        vertical-align: top;\n",
       "    }\n",
       "\n",
       "    .dataframe thead th {\n",
       "        text-align: right;\n",
       "    }\n",
       "</style>\n",
       "<table border=\"1\" class=\"dataframe\">\n",
       "  <thead>\n",
       "    <tr style=\"text-align: right;\">\n",
       "      <th></th>\n",
       "      <th>Destination</th>\n",
       "      <th>Feedback_Score</th>\n",
       "      <th>Average_Hotel_Rating</th>\n",
       "      <th>All_Inclusive_Hotels</th>\n",
       "      <th>City</th>\n",
       "    </tr>\n",
       "  </thead>\n",
       "  <tbody>\n",
       "    <tr>\n",
       "      <th>7</th>\n",
       "      <td>Spiceland</td>\n",
       "      <td>1</td>\n",
       "      <td>1.0</td>\n",
       "      <td>12</td>\n",
       "      <td>Saffron</td>\n",
       "    </tr>\n",
       "  </tbody>\n",
       "</table>\n",
       "</div>"
      ],
      "text/plain": [
       "  Destination  Feedback_Score  Average_Hotel_Rating  All_Inclusive_Hotels  \\\n",
       "7   Spiceland               1                   1.0                    12   \n",
       "\n",
       "      City  \n",
       "7  Saffron  "
      ]
     },
     "execution_count": 7,
     "metadata": {},
     "output_type": "execute_result"
    }
   ],
   "source": [
    "#4. Find lowest scoring destination\n",
    "data[(data.Feedback_Score<=1)]"
   ]
  },
  {
   "cell_type": "code",
   "execution_count": 11,
   "metadata": {},
   "outputs": [
    {
     "data": {
      "text/html": [
       "<div>\n",
       "<style scoped>\n",
       "    .dataframe tbody tr th:only-of-type {\n",
       "        vertical-align: middle;\n",
       "    }\n",
       "\n",
       "    .dataframe tbody tr th {\n",
       "        vertical-align: top;\n",
       "    }\n",
       "\n",
       "    .dataframe thead th {\n",
       "        text-align: right;\n",
       "    }\n",
       "</style>\n",
       "<table border=\"1\" class=\"dataframe\">\n",
       "  <thead>\n",
       "    <tr style=\"text-align: right;\">\n",
       "      <th></th>\n",
       "      <th>Destination</th>\n",
       "      <th>Feedback_Score</th>\n",
       "      <th>Average_Hotel_Rating</th>\n",
       "      <th>All_Inclusive_Hotels</th>\n",
       "      <th>City</th>\n",
       "    </tr>\n",
       "  </thead>\n",
       "  <tbody>\n",
       "    <tr>\n",
       "      <th>10</th>\n",
       "      <td>Robloxia</td>\n",
       "      <td>10</td>\n",
       "      <td>4.5</td>\n",
       "      <td>6</td>\n",
       "      <td>Blocksberg</td>\n",
       "    </tr>\n",
       "  </tbody>\n",
       "</table>\n",
       "</div>"
      ],
      "text/plain": [
       "   Destination  Feedback_Score  Average_Hotel_Rating  All_Inclusive_Hotels  \\\n",
       "10    Robloxia              10                   4.5                     6   \n",
       "\n",
       "          City  \n",
       "10  Blocksberg  "
      ]
     },
     "execution_count": 11,
     "metadata": {},
     "output_type": "execute_result"
    }
   ],
   "source": [
    "#5. Find lowest highest destination\n",
    "data[(data.Feedback_Score>=10)]"
   ]
  },
  {
   "cell_type": "code",
   "execution_count": 12,
   "metadata": {},
   "outputs": [
    {
     "data": {
      "text/html": [
       "<div>\n",
       "<style scoped>\n",
       "    .dataframe tbody tr th:only-of-type {\n",
       "        vertical-align: middle;\n",
       "    }\n",
       "\n",
       "    .dataframe tbody tr th {\n",
       "        vertical-align: top;\n",
       "    }\n",
       "\n",
       "    .dataframe thead th {\n",
       "        text-align: right;\n",
       "    }\n",
       "</style>\n",
       "<table border=\"1\" class=\"dataframe\">\n",
       "  <thead>\n",
       "    <tr style=\"text-align: right;\">\n",
       "      <th></th>\n",
       "      <th>Destination</th>\n",
       "      <th>Feedback_Score</th>\n",
       "      <th>Average_Hotel_Rating</th>\n",
       "      <th>All_Inclusive_Hotels</th>\n",
       "      <th>City</th>\n",
       "    </tr>\n",
       "  </thead>\n",
       "  <tbody>\n",
       "    <tr>\n",
       "      <th>0</th>\n",
       "      <td>L'Man</td>\n",
       "      <td>2</td>\n",
       "      <td>2.0</td>\n",
       "      <td>10</td>\n",
       "      <td>L'Manburg</td>\n",
       "    </tr>\n",
       "    <tr>\n",
       "      <th>1</th>\n",
       "      <td>Unicorn Kingdom</td>\n",
       "      <td>8</td>\n",
       "      <td>5.0</td>\n",
       "      <td>12</td>\n",
       "      <td>Unicornica</td>\n",
       "    </tr>\n",
       "    <tr>\n",
       "      <th>4</th>\n",
       "      <td>Tubbox</td>\n",
       "      <td>4</td>\n",
       "      <td>3.0</td>\n",
       "      <td>21</td>\n",
       "      <td>Tubbo</td>\n",
       "    </tr>\n",
       "    <tr>\n",
       "      <th>7</th>\n",
       "      <td>Spiceland</td>\n",
       "      <td>1</td>\n",
       "      <td>1.0</td>\n",
       "      <td>12</td>\n",
       "      <td>Saffron</td>\n",
       "    </tr>\n",
       "    <tr>\n",
       "      <th>8</th>\n",
       "      <td>Santa Land</td>\n",
       "      <td>9</td>\n",
       "      <td>4.5</td>\n",
       "      <td>11</td>\n",
       "      <td>Grotto Town</td>\n",
       "    </tr>\n",
       "    <tr>\n",
       "      <th>9</th>\n",
       "      <td>Fairydia</td>\n",
       "      <td>8</td>\n",
       "      <td>5.0</td>\n",
       "      <td>9</td>\n",
       "      <td>Sparkle</td>\n",
       "    </tr>\n",
       "    <tr>\n",
       "      <th>13</th>\n",
       "      <td>United Rainbow States</td>\n",
       "      <td>5</td>\n",
       "      <td>2.0</td>\n",
       "      <td>14</td>\n",
       "      <td>Indigo</td>\n",
       "    </tr>\n",
       "  </tbody>\n",
       "</table>\n",
       "</div>"
      ],
      "text/plain": [
       "              Destination  Feedback_Score  Average_Hotel_Rating  \\\n",
       "0                   L'Man               2                   2.0   \n",
       "1         Unicorn Kingdom               8                   5.0   \n",
       "4                  Tubbox               4                   3.0   \n",
       "7               Spiceland               1                   1.0   \n",
       "8              Santa Land               9                   4.5   \n",
       "9                Fairydia               8                   5.0   \n",
       "13  United Rainbow States               5                   2.0   \n",
       "\n",
       "    All_Inclusive_Hotels         City  \n",
       "0                     10    L'Manburg  \n",
       "1                     12   Unicornica  \n",
       "4                     21        Tubbo  \n",
       "7                     12      Saffron  \n",
       "8                     11  Grotto Town  \n",
       "9                      9      Sparkle  \n",
       "13                    14       Indigo  "
      ]
     },
     "execution_count": 12,
     "metadata": {},
     "output_type": "execute_result"
    }
   ],
   "source": [
    "#6. All the destinations where there are more than 9 all-inclusive hotels\n",
    "data[(data.All_Inclusive_Hotels>=9)]"
   ]
  },
  {
   "cell_type": "code",
   "execution_count": 13,
   "metadata": {},
   "outputs": [
    {
     "data": {
      "text/plain": [
       "0     False\n",
       "1     False\n",
       "2     False\n",
       "3     False\n",
       "4     False\n",
       "5     False\n",
       "6     False\n",
       "7     False\n",
       "8      True\n",
       "9     False\n",
       "10     True\n",
       "11    False\n",
       "12    False\n",
       "13    False\n",
       "14    False\n",
       "Name: Feedback_Score, dtype: bool"
      ]
     },
     "execution_count": 13,
     "metadata": {},
     "output_type": "execute_result"
    }
   ],
   "source": [
    "#7. Filter the data by destination and score above 8.\n",
    "myfilter=data[\"Feedback_Score\"]>8\n",
    "myfilter"
   ]
  },
  {
   "cell_type": "code",
   "execution_count": 14,
   "metadata": {},
   "outputs": [
    {
     "data": {
      "text/html": [
       "<div>\n",
       "<style scoped>\n",
       "    .dataframe tbody tr th:only-of-type {\n",
       "        vertical-align: middle;\n",
       "    }\n",
       "\n",
       "    .dataframe tbody tr th {\n",
       "        vertical-align: top;\n",
       "    }\n",
       "\n",
       "    .dataframe thead th {\n",
       "        text-align: right;\n",
       "    }\n",
       "</style>\n",
       "<table border=\"1\" class=\"dataframe\">\n",
       "  <thead>\n",
       "    <tr style=\"text-align: right;\">\n",
       "      <th></th>\n",
       "      <th>Destination</th>\n",
       "      <th>Feedback_Score</th>\n",
       "      <th>Average_Hotel_Rating</th>\n",
       "      <th>All_Inclusive_Hotels</th>\n",
       "      <th>City</th>\n",
       "    </tr>\n",
       "  </thead>\n",
       "  <tbody>\n",
       "    <tr>\n",
       "      <th>8</th>\n",
       "      <td>Santa Land</td>\n",
       "      <td>9</td>\n",
       "      <td>4.5</td>\n",
       "      <td>11</td>\n",
       "      <td>Grotto Town</td>\n",
       "    </tr>\n",
       "    <tr>\n",
       "      <th>10</th>\n",
       "      <td>Robloxia</td>\n",
       "      <td>10</td>\n",
       "      <td>4.5</td>\n",
       "      <td>6</td>\n",
       "      <td>Blocksberg</td>\n",
       "    </tr>\n",
       "  </tbody>\n",
       "</table>\n",
       "</div>"
      ],
      "text/plain": [
       "   Destination  Feedback_Score  Average_Hotel_Rating  All_Inclusive_Hotels  \\\n",
       "8   Santa Land               9                   4.5                    11   \n",
       "10    Robloxia              10                   4.5                     6   \n",
       "\n",
       "           City  \n",
       "8   Grotto Town  \n",
       "10   Blocksberg  "
      ]
     },
     "execution_count": 14,
     "metadata": {},
     "output_type": "execute_result"
    }
   ],
   "source": [
    "highscore=data[myfilter]\n",
    "highscore. head()"
   ]
  },
  {
   "cell_type": "code",
   "execution_count": 15,
   "metadata": {},
   "outputs": [
    {
     "data": {
      "text/plain": [
       "0     False\n",
       "1     False\n",
       "2     False\n",
       "3     False\n",
       "4     False\n",
       "5     False\n",
       "6     False\n",
       "7      True\n",
       "8     False\n",
       "9     False\n",
       "10    False\n",
       "11    False\n",
       "12    False\n",
       "13    False\n",
       "14    False\n",
       "Name: Feedback_Score, dtype: bool"
      ]
     },
     "execution_count": 15,
     "metadata": {},
     "output_type": "execute_result"
    }
   ],
   "source": [
    "#8. Filter the data by destination and score below 2 \n",
    "myfilter=data[\"Feedback_Score\"]<2\n",
    "myfilter"
   ]
  },
  {
   "cell_type": "code",
   "execution_count": 16,
   "metadata": {},
   "outputs": [
    {
     "data": {
      "text/html": [
       "<div>\n",
       "<style scoped>\n",
       "    .dataframe tbody tr th:only-of-type {\n",
       "        vertical-align: middle;\n",
       "    }\n",
       "\n",
       "    .dataframe tbody tr th {\n",
       "        vertical-align: top;\n",
       "    }\n",
       "\n",
       "    .dataframe thead th {\n",
       "        text-align: right;\n",
       "    }\n",
       "</style>\n",
       "<table border=\"1\" class=\"dataframe\">\n",
       "  <thead>\n",
       "    <tr style=\"text-align: right;\">\n",
       "      <th></th>\n",
       "      <th>Destination</th>\n",
       "      <th>Feedback_Score</th>\n",
       "      <th>Average_Hotel_Rating</th>\n",
       "      <th>All_Inclusive_Hotels</th>\n",
       "      <th>City</th>\n",
       "    </tr>\n",
       "  </thead>\n",
       "  <tbody>\n",
       "    <tr>\n",
       "      <th>7</th>\n",
       "      <td>Spiceland</td>\n",
       "      <td>1</td>\n",
       "      <td>1.0</td>\n",
       "      <td>12</td>\n",
       "      <td>Saffron</td>\n",
       "    </tr>\n",
       "  </tbody>\n",
       "</table>\n",
       "</div>"
      ],
      "text/plain": [
       "  Destination  Feedback_Score  Average_Hotel_Rating  All_Inclusive_Hotels  \\\n",
       "7   Spiceland               1                   1.0                    12   \n",
       "\n",
       "      City  \n",
       "7  Saffron  "
      ]
     },
     "execution_count": 16,
     "metadata": {},
     "output_type": "execute_result"
    }
   ],
   "source": [
    "lowscore=data[myfilter]\n",
    "lowscore. head()"
   ]
  },
  {
   "cell_type": "code",
   "execution_count": null,
   "metadata": {},
   "outputs": [],
   "source": []
  },
  {
   "cell_type": "code",
   "execution_count": 20,
   "metadata": {},
   "outputs": [
    {
     "data": {
      "text/plain": [
       "<AxesSubplot:xlabel='All_Inclusive_Hotels', ylabel='Feedback_Score'>"
      ]
     },
     "execution_count": 20,
     "metadata": {},
     "output_type": "execute_result"
    },
    {
     "data": {
      "image/png": "[encoded data removed]",
      "text/plain": [
       "<Figure size 432x288 with 1 Axes>"
      ]
     },
     "metadata": {
      "needs_background": "light"
     },
     "output_type": "display_data"
    }
   ],
   "source": [
    "#9. Is there a correlation between number of all-inclusive hotels and score?\n",
    "data.plot.scatter(x=\"All_Inclusive_Hotels\", y=\"Feedback_Score\")"
   ]
  },
  {
   "cell_type": "code",
   "execution_count": null,
   "metadata": {},
   "outputs": [],
   "source": [
    "#The answer to Q9 would be No - there is no correlation at all!!!"
   ]
  },
  {
   "cell_type": "code",
   "execution_count": 19,
   "metadata": {},
   "outputs": [
    {
     "data": {
      "text/plain": [
       "<AxesSubplot:xlabel='Destination'>"
      ]
     },
     "execution_count": 19,
     "metadata": {},
     "output_type": "execute_result"
    },
    {
     "data": {
      "image/png": "[encoded data removed]",
      "text/plain": [
       "<Figure size 432x288 with 1 Axes>"
      ]
     },
     "metadata": {
      "needs_background": "light"
     },
     "output_type": "display_data"
    }
   ],
   "source": [
    "#10. Create a data visualisation diagram to show destination and highest scores?\n",
    "data.plot.bar(x=\"Destination\", y=\"Feedback_Score\")"
   ]
  },
  {
   "cell_type": "code",
   "execution_count": 22,
   "metadata": {},
   "outputs": [
    {
     "data": {
      "text/plain": [
       "<AxesSubplot:xlabel='Destination'>"
      ]
     },
     "execution_count": 22,
     "metadata": {},
     "output_type": "execute_result"
    },
    {
     "data": {
      "image/png": "[encoded data removed]",
      "text/plain": [
       "<Figure size 432x288 with 1 Axes>"
      ]
     },
     "metadata": {
      "needs_background": "light"
     },
     "output_type": "display_data"
    }
   ],
   "source": [
    "data.plot.bar(x=\"Destination\", y=\"All_Inclusive_Hotels\")"
   ]
  },
  {
   "cell_type": "code",
   "execution_count": 21,
   "metadata": {},
   "outputs": [
    {
     "data": {
      "text/plain": [
       "array([[<AxesSubplot:title={'center':'Feedback_Score'}>,\n",
       "        <AxesSubplot:title={'center':'Average_Hotel_Rating'}>],\n",
       "       [<AxesSubplot:title={'center':'All_Inclusive_Hotels'}>,\n",
       "        <AxesSubplot:>]], dtype=object)"
      ]
     },
     "execution_count": 21,
     "metadata": {},
     "output_type": "execute_result"
    },
    {
     "data": {
      "image/png": "[encoded data removed]",
      "text/plain": [
       "<Figure size 432x288 with 4 Axes>"
      ]
     },
     "metadata": {
      "needs_background": "light"
     },
     "output_type": "display_data"
    }
   ],
   "source": [
    "data.hist()"
   ]
  },
  {
   "cell_type": "code",
   "execution_count": 26,
   "metadata": {},
   "outputs": [
    {
     "data": {
      "text/plain": [
       "array([[<AxesSubplot:xlabel='Feedback_Score', ylabel='Feedback_Score'>,\n",
       "        <AxesSubplot:xlabel='Average_Hotel_Rating', ylabel='Feedback_Score'>,\n",
       "        <AxesSubplot:xlabel='All_Inclusive_Hotels', ylabel='Feedback_Score'>],\n",
       "       [<AxesSubplot:xlabel='Feedback_Score', ylabel='Average_Hotel_Rating'>,\n",
       "        <AxesSubplot:xlabel='Average_Hotel_Rating', ylabel='Average_Hotel_Rating'>,\n",
       "        <AxesSubplot:xlabel='All_Inclusive_Hotels', ylabel='Average_Hotel_Rating'>],\n",
       "       [<AxesSubplot:xlabel='Feedback_Score', ylabel='All_Inclusive_Hotels'>,\n",
       "        <AxesSubplot:xlabel='Average_Hotel_Rating', ylabel='All_Inclusive_Hotels'>,\n",
       "        <AxesSubplot:xlabel='All_Inclusive_Hotels', ylabel='All_Inclusive_Hotels'>]],\n",
       "      dtype=object)"
      ]
     },
     "execution_count": 26,
     "metadata": {},
     "output_type": "execute_result"
    },
    {
     "data": {
      "image/png": "[encoded data removed]",
      "text/plain": [
       "<Figure size 720x720 with 9 Axes>"
      ]
     },
     "metadata": {
      "needs_background": "light"
     },
     "output_type": "display_data"
    }
   ],
   "source": [
    "from pandas.plotting import scatter_matrix\n",
    "scatter_matrix (data, figsize=(10,10))"
   ]
  },
  {
   "cell_type": "code",
   "execution_count": null,
   "metadata": {},
   "outputs": [],
   "source": []
  }
 ],
 "metadata": {
  "kernelspec": {
   "display_name": "Python 3",
   "language": "python",
   "name": "python3"
  },
  "language_info": {
   "codemirror_mode": {
    "name": "ipython",
    "version": 3
   },
   "file_extension": ".py",
   "mimetype": "text/x-python",
   "name": "python",
   "nbconvert_exporter": "python",
   "pygments_lexer": "ipython3",
   "version": "3.8.5"
  }
 },
 "nbformat": 4,
 "nbformat_minor": 4
}
