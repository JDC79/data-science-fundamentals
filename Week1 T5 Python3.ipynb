{
 "cells": [
  {
   "cell_type": "code",
   "execution_count": 24,
   "metadata": {},
   "outputs": [
    {
     "name": "stdin",
     "output_type": "stream",
     "text": [
      "Enter a number?  4\n",
      "Enter a second number?  4\n",
      "What would you like to do? To add the numbers together type a, to subtract its b, to divide type c, to multiply its d or to the power of type e.  e\n"
     ]
    },
    {
     "name": "stdout",
     "output_type": "stream",
     "text": [
      "256\n"
     ]
    }
   ],
   "source": [
    "number_input1 = int(input(\"Enter a number? \"))\n",
    "number_input2 = int(input(\"Enter a second number? \"))\n",
    "menu_input = input(\"What would you like to do? To add the numbers together type a, to subtract its b, to divide type c, to multiply its d or to the power of type e. \")\n",
    "if menu_input == \"a\":\n",
    "    print(int(number_input1 + number_input2))\n",
    "elif menu_input == \"b\":\n",
    "    print(int(number_input1 - number_input2))\n",
    "elif menu_input == \"c\":\n",
    "    print(float(number_input1 / number_input2))\n",
    "elif menu_input == \"d\":\n",
    "    print(int(number_input1 * number_input2))\n",
    "else:\n",
    "    print(int(number_input1 ** number_input2))"
   ]
  },
  {
   "cell_type": "code",
   "execution_count": null,
   "metadata": {},
   "outputs": [],
   "source": []
  }
 ],
 "metadata": {
  "kernelspec": {
   "display_name": "Python 3",
   "language": "python",
   "name": "python3"
  },
  "language_info": {
   "codemirror_mode": {
    "name": "ipython",
    "version": 3
   },
   "file_extension": ".py",
   "mimetype": "text/x-python",
   "name": "python",
   "nbconvert_exporter": "python",
   "pygments_lexer": "ipython3",
   "version": "3.8.5"
  }
 },
 "nbformat": 4,
 "nbformat_minor": 4
}
