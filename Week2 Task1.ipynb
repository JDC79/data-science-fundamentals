{
 "cells": [
  {
   "cell_type": "code",
   "execution_count": null,
   "metadata": {},
   "outputs": [],
   "source": [
    "#Create your own Data Flow Diagram (DFD), a subject of your own choice and convert it into code. Delivery options for online food orders during Covid19"
   ]
  },
  {
   "cell_type": "code",
   "execution_count": 5,
   "metadata": {},
   "outputs": [
    {
     "name": "stdout",
     "output_type": "stream",
     "text": [
      "Thank you for your order, do you want delivery?\n"
     ]
    },
    {
     "name": "stdin",
     "output_type": "stream",
     "text": [
      "enter Y for yes or N for no Y\n"
     ]
    },
    {
     "name": "stdout",
     "output_type": "stream",
     "text": [
      "We are covid19 compliant. Do you want a contactless delivery?\n"
     ]
    },
    {
     "name": "stdin",
     "output_type": "stream",
     "text": [
      "enter Y for yes or N for no Y\n"
     ]
    },
    {
     "name": "stdout",
     "output_type": "stream",
     "text": [
      "We will call you to let you know your order has been delivered. Please enter your phone number.\n"
     ]
    },
    {
     "name": "stdin",
     "output_type": "stream",
     "text": [
      "phone number 232434332432\n"
     ]
    },
    {
     "name": "stdout",
     "output_type": "stream",
     "text": [
      "See you later :)\n"
     ]
    }
   ],
   "source": [
    "print(\"Thank you for your order, do you want delivery?\")\n",
    "\n",
    "delivery_input = input(\"enter Y for yes or N for no\")\n",
    "\n",
    "if delivery_input == \"N\": \n",
    "    print(\"Please collect your order from the takeover when the app tells you to.\")\n",
    "elif delivery_input == \"Y\":\n",
    "    print(\"We are covid19 compliant. Do you want a contactless delivery?\")\n",
    "    contactless_input = input(\"enter Y for yes or N for no\")\n",
    "    \n",
    "if contactless_input == \"N\": \n",
    "    print(\"We will ring your doorbell when we arrive with your order and step back in order to abide with social distancing\")\n",
    "elif delivery_input == \"Y\":\n",
    "    print(\"We will call you to let you know your order has been delivered. Please enter your phone number.\")\n",
    "    phone_input = input(\"phone number\")\n",
    "\n",
    "print(\"See you later :)\")"
   ]
  }
 ],
 "metadata": {
  "kernelspec": {
   "display_name": "Python 3",
   "language": "python",
   "name": "python3"
  },
  "language_info": {
   "codemirror_mode": {
    "name": "ipython",
    "version": 3
   },
   "file_extension": ".py",
   "mimetype": "text/x-python",
   "name": "python",
   "nbconvert_exporter": "python",
   "pygments_lexer": "ipython3",
   "version": "3.8.5"
  }
 },
 "nbformat": 4,
 "nbformat_minor": 4
}
