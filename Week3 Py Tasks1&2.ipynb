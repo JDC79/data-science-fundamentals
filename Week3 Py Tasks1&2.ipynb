{
 "cells": [
  {
   "cell_type": "code",
   "execution_count": 1,
   "metadata": {},
   "outputs": [],
   "source": [
    "# Task 1 - writing to a file\n",
    "my_file = open(\"numbers.txt\", \"w\")"
   ]
  },
  {
   "cell_type": "code",
   "execution_count": 2,
   "metadata": {},
   "outputs": [],
   "source": [
    "my_file.write(\"3, 45, 83, 21\")\n",
    "my_file.write(\"\\n\")\n",
    "\n",
    "my_file.close()"
   ]
  },
  {
   "cell_type": "code",
   "execution_count": null,
   "metadata": {},
   "outputs": [],
   "source": [
    "# reading from a file\n",
    "with open (\"numbers.txt\", \"r\") as myfile:\n",
    "    data = myfile.read().replace('/n', ',')\n",
    "    \n",
    "my_file.close()"
   ]
  },
  {
   "cell_type": "code",
   "execution_count": 4,
   "metadata": {},
   "outputs": [
    {
     "name": "stdout",
     "output_type": "stream",
     "text": [
      "3, 45, 83,  21\n",
      "\n"
     ]
    }
   ],
   "source": [
    "print(data)"
   ]
  },
  {
   "cell_type": "code",
   "execution_count": 5,
   "metadata": {},
   "outputs": [],
   "source": [
    "# appending a file\n",
    "my_file = open(\"numbers.txt\", \"a\")\n",
    "\n",
    "my_file.write(\"Where are my numbers?\")\n",
    "\n",
    "my_file.close()"
   ]
  },
  {
   "cell_type": "code",
   "execution_count": 6,
   "metadata": {},
   "outputs": [],
   "source": [
    "with open (\"numbers.txt\", \"r\") as myfile:\n",
    "    data = myfile.read().replace('/n', ',')\n",
    "    \n",
    "my_file.close()"
   ]
  },
  {
   "cell_type": "code",
   "execution_count": 7,
   "metadata": {},
   "outputs": [
    {
     "name": "stdout",
     "output_type": "stream",
     "text": [
      "3, 45, 83,  21\n",
      "Where are my numbers?\n"
     ]
    }
   ],
   "source": [
    "print(data)"
   ]
  },
  {
   "cell_type": "code",
   "execution_count": 8,
   "metadata": {},
   "outputs": [
    {
     "name": "stdin",
     "output_type": "stream",
     "text": [
      "Student - enter your percentage exam score between 0-100:% 78\n"
     ]
    },
    {
     "name": "stdout",
     "output_type": "stream",
     "text": [
      "That exam score is a grade B\n",
      "Exam score notes: 90+ = A*, 80-89 = A, 70-79 = B, 60-69 = C & Below 60 = F\n"
     ]
    },
    {
     "name": "stdin",
     "output_type": "stream",
     "text": [
      "What is your target score between 0-100?% 85\n"
     ]
    },
    {
     "name": "stdout",
     "output_type": "stream",
     "text": [
      "Oh dear, you didnt achieve your target grade this time, get those books out and study\n"
     ]
    }
   ],
   "source": [
    "# Task 2 - program asking student for their exam mark as a %\n",
    "# display this as corresponding grade\n",
    "\n",
    "score = int(input(\"Student - enter your percentage exam score between 0-100:\" + \"%\"))\n",
    "if score >=90:\n",
    "    print(\"That exam score is a grade A*\")\n",
    "elif score>=80:\n",
    "    print(\"That exam score is a grade A\")\n",
    "elif score>=70:\n",
    "    print(\"That exam score is a grade B\")\n",
    "elif score>=60:\n",
    "    print(\"That exam score is a grade C\")\n",
    "else:\n",
    "    print(\"That exam score is a grade F\")\n",
    "    \n",
    "print (\"Exam score notes: 90+ = A*, 80-89 = A, 70-79 = B, 60-69 = C & Below 60 = F\")\n",
    "target = int(input(\"What is your target score between 0-100?\" + \"%\"))\n",
    "if score >target:\n",
    "    print (\"Amazing you have exceeded your target grade - give yourself a pat on the back\")\n",
    "elif score == target:\n",
    "    print (\"Well done you have achieved your target grade\")\n",
    "else:\n",
    "    print (\"Oh dear, you didnt achieve your target grade this time, get those books out and study\")"
   ]
  },
  {
   "cell_type": "code",
   "execution_count": null,
   "metadata": {},
   "outputs": [],
   "source": []
  }
 ],
 "metadata": {
  "kernelspec": {
   "display_name": "Python 3",
   "language": "python",
   "name": "python3"
  },
  "language_info": {
   "codemirror_mode": {
    "name": "ipython",
    "version": 3
   },
   "file_extension": ".py",
   "mimetype": "text/x-python",
   "name": "python",
   "nbconvert_exporter": "python",
   "pygments_lexer": "ipython3",
   "version": "3.8.5"
  }
 },
 "nbformat": 4,
 "nbformat_minor": 4
}
