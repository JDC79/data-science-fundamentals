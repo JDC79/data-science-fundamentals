{
 "cells": [
  {
   "cell_type": "code",
   "execution_count": 2,
   "metadata": {},
   "outputs": [
    {
     "name": "stdin",
     "output_type": "stream",
     "text": [
      "What is your favourite starter, main course and desert?  soup, pasta and cake\n"
     ]
    }
   ],
   "source": [
    "food_input = input(\"What is your favourite starter, main course and desert? \")"
   ]
  },
  {
   "cell_type": "code",
   "execution_count": 4,
   "metadata": {},
   "outputs": [
    {
     "name": "stdin",
     "output_type": "stream",
     "text": [
      "Now what is your favourite drink?  white wine\n"
     ]
    }
   ],
   "source": [
    "drink_input = input(\"Now what is your favourite drink? \")"
   ]
  },
  {
   "cell_type": "code",
   "execution_count": 5,
   "metadata": {},
   "outputs": [
    {
     "name": "stdout",
     "output_type": "stream",
     "text": [
      "Your favourite meal is soup, pasta and cake followed by a glass of white wine\n"
     ]
    }
   ],
   "source": [
    "print(\"Your favourite meal is\", food_input, \"followed by a glass of\", drink_input)"
   ]
  },
  {
   "cell_type": "code",
   "execution_count": 1,
   "metadata": {},
   "outputs": [
    {
     "name": "stdin",
     "output_type": "stream",
     "text": [
      "What is your favourite starter, main course and desert?  cake, cake and cake\n",
      "Now what is your favourite drink?  cake cocktail\n"
     ]
    },
    {
     "name": "stdout",
     "output_type": "stream",
     "text": [
      "Your favourite meal is cake, cake and cake followed by a glass of cake cocktail\n"
     ]
    }
   ],
   "source": [
    "food_input = input(\"What is your favourite starter, main course and desert? \")\n",
    "drink_input = input(\"Now what is your favourite drink? \")\n",
    "print(\"Your favourite meal is\", food_input, \"followed by a glass of\", drink_input)"
   ]
  },
  {
   "cell_type": "code",
   "execution_count": null,
   "metadata": {},
   "outputs": [],
   "source": []
  }
 ],
 "metadata": {
  "kernelspec": {
   "display_name": "Python 3",
   "language": "python",
   "name": "python3"
  },
  "language_info": {
   "codemirror_mode": {
    "name": "ipython",
    "version": 3
   },
   "file_extension": ".py",
   "mimetype": "text/x-python",
   "name": "python",
   "nbconvert_exporter": "python",
   "pygments_lexer": "ipython3",
   "version": "3.8.5"
  }
 },
 "nbformat": 4,
 "nbformat_minor": 4
}
