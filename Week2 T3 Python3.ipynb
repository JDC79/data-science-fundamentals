{
 "cells": [
  {
   "cell_type": "code",
   "execution_count": null,
   "metadata": {},
   "outputs": [],
   "source": [
    "#Week3 Task 3: Write a programme which will ask for two numbers from a user. Then offer a menu to the user giving them a choice of maths operators. Once the user has selected which operator they wish to use, perform the calculation by using a procedure and passing parameters."
   ]
  },
  {
   "cell_type": "code",
   "execution_count": 1,
   "metadata": {},
   "outputs": [],
   "source": [
    "def maths(number_input1,number_input2):\n",
    "    menu_input = input(\"What would you like to do? To add the numbers together type a, to subtract its b, to divide type c, to multiply its d, to the power its e or to square type f. \")\n",
    "    \n",
    "    if menu_input == \"a\":\n",
    "        print (number_input1+number_input2)\n",
    "    elif menu_input == \"b\":\n",
    "        print (number_input1-number_input2)\n",
    "    elif menu_input == \"c\":\n",
    "        print (number_input1/number_input2)\n",
    "    elif menu_input == \"d\":\n",
    "        print (number_input1*number_input2)\n",
    "    elif menu_input == \"e\":\n",
    "        print (number_input1*number_input2)\n",
    "    elif menu_input == \"f\":\n",
    "        print (number_input1//number_input2)"
   ]
  },
  {
   "cell_type": "code",
   "execution_count": 2,
   "metadata": {},
   "outputs": [
    {
     "name": "stdout",
     "output_type": "stream",
     "text": [
      "Welcome to my maths game, I would like you to enter two numbers you would like to use? \n"
     ]
    },
    {
     "name": "stdin",
     "output_type": "stream",
     "text": [
      "Enter your first number?  5\n",
      "Enter a second number?  6\n",
      "What would you like to do? To add the numbers together type a, to subtract its b, to divide type c, to multiply its d, to the power its e or to square type f.  c\n"
     ]
    },
    {
     "name": "stdout",
     "output_type": "stream",
     "text": [
      "0.8333333333333334\n"
     ]
    }
   ],
   "source": [
    "print(\"Welcome to my maths game, I would like you to enter two numbers you would like to use? \")\n",
    "\n",
    "number_input1 = int(input(\"Enter your first number? \"))     \n",
    "number_input2 = int(input(\"Enter a second number? \"))\n",
    "\n",
    "maths(number_input1,number_input2)"
   ]
  },
  {
   "cell_type": "code",
   "execution_count": null,
   "metadata": {},
   "outputs": [],
   "source": []
  }
 ],
 "metadata": {
  "kernelspec": {
   "display_name": "Python 3",
   "language": "python",
   "name": "python3"
  },
  "language_info": {
   "codemirror_mode": {
    "name": "ipython",
    "version": 3
   },
   "file_extension": ".py",
   "mimetype": "text/x-python",
   "name": "python",
   "nbconvert_exporter": "python",
   "pygments_lexer": "ipython3",
   "version": "3.8.5"
  }
 },
 "nbformat": 4,
 "nbformat_minor": 4
}
