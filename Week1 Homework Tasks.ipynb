{
 "cells": [
  {
   "cell_type": "markdown",
   "metadata": {},
   "source": [
    "#task1\n",
    "import random\n",
    "name_input = input(\"What is your name? \")\n",
    "number = random.randint(1,10)\n",
    "print(\"Hello \" + name_input + \", I am thinking of a number between 1 and 10...\")\n",
    "guess = int(input(\"Would you care to take a guess?\"))\n",
    "if guess == number:\n",
    "    print(\"Amazing \" + name_input + \", you guessed my number!\")\n",
    "else:\n",
    "    print(\"Ooops \" + name_input + \", you guessed wrong.... better luck next time\")"
   ]
  },
  {
   "cell_type": "code",
   "execution_count": 2,
   "metadata": {},
   "outputs": [
    {
     "name": "stdin",
     "output_type": "stream",
     "text": [
      "What is your favourite number between 1 and 100?  56\n"
     ]
    },
    {
     "name": "stdout",
     "output_type": "stream",
     "text": [
      "Whats pink and spongy?\n"
     ]
    }
   ],
   "source": [
    "#task2\n",
    "number_input = input(\"What is your favourite number between 1 and 100? \")\n",
    "if number_input == 1: \n",
    "    print(\"Why did the chicken cross the road?\")\n",
    "elif number_input == 2:\n",
    "    print(\"What do you call a french sandal?\")\n",
    "else:\n",
    "    print(\"Whats pink and spongy?\")"
   ]
  },
  {
   "cell_type": "code",
   "execution_count": 3,
   "metadata": {},
   "outputs": [
    {
     "name": "stdin",
     "output_type": "stream",
     "text": [
      "What is your favourite starter, main course and desert?  cake, cake and cake\n",
      "Now what is your favourite drink?  cake cocktail\n"
     ]
    },
    {
     "name": "stdout",
     "output_type": "stream",
     "text": [
      "Your favourite meal is cake, cake and cake followed by a glass of cake cocktail\n"
     ]
    }
   ],
   "source": [
    "#task3\n",
    "food_input = input(\"What is your favourite starter, main course and desert? \")\n",
    "drink_input = input(\"Now what is your favourite drink? \")\n",
    "print(\"Your favourite meal is\", food_input, \"followed by a glass of\", drink_input)"
   ]
  },
  {
   "cell_type": "code",
   "execution_count": 5,
   "metadata": {},
   "outputs": [
    {
     "name": "stdout",
     "output_type": "stream",
     "text": [
      "The value of the motorbike is: 2000\n",
      "The value of the motorbike is: 1800.0\n",
      "The value of the motorbike is: 1620.0\n",
      "The value of the motorbike is: 1458.0\n",
      "The value of the motorbike is: 1312.2\n",
      "The value of the motorbike is: 1180.98\n",
      "The value of the motorbike is: 1062.882\n"
     ]
    }
   ],
   "source": [
    "#task4\n",
    "motorbike_value = 2000\n",
    "while motorbike_value>1000:\n",
    "    print(\"The value of the motorbike is:\", motorbike_value)\n",
    "    motorbike_value=motorbike_value*0.9"
   ]
  },
  {
   "cell_type": "code",
   "execution_count": 4,
   "metadata": {},
   "outputs": [
    {
     "name": "stdin",
     "output_type": "stream",
     "text": [
      "Enter a number?  5\n",
      "Enter a second number?  7\n",
      "What would you like to do? To add the numbers together type a, to subtract its b, to divide type c, to multiply its d or to the power of type e.  d\n"
     ]
    },
    {
     "name": "stdout",
     "output_type": "stream",
     "text": [
      "35\n"
     ]
    }
   ],
   "source": [
    "#task5 I was unsure about the use of square - i did research but just got confused on the symbols.\n",
    "number_input1 = int(input(\"Enter a number? \"))\n",
    "number_input2 = int(input(\"Enter a second number? \"))\n",
    "menu_input = input(\"What would you like to do? To add the numbers together type a, to subtract its b, to divide type c, to multiply its d or to the power of type e. \")\n",
    "if menu_input == \"a\":\n",
    "    print(int(number_input1 + number_input2))\n",
    "elif menu_input == \"b\":\n",
    "    print(int(number_input1 - number_input2))\n",
    "elif menu_input == \"c\":\n",
    "    print(float(number_input1 / number_input2))\n",
    "elif menu_input == \"d\":\n",
    "    print(int(number_input1 * number_input2))\n",
    "else:\n",
    "    print(int(number_input1 ** number_input2))"
   ]
  }
 ],
 "metadata": {
  "kernelspec": {
   "display_name": "Python 3",
   "language": "python",
   "name": "python3"
  },
  "language_info": {
   "codemirror_mode": {
    "name": "ipython",
    "version": 3
   },
   "file_extension": ".py",
   "mimetype": "text/x-python",
   "name": "python",
   "nbconvert_exporter": "python",
   "pygments_lexer": "ipython3",
   "version": "3.8.5"
  }
 },
 "nbformat": 4,
 "nbformat_minor": 4
}
