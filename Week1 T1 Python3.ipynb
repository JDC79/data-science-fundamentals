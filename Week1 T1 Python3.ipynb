{
 "cells": [
  {
   "cell_type": "code",
   "execution_count": 1,
   "metadata": {},
   "outputs": [],
   "source": [
    "import random"
   ]
  },
  {
   "cell_type": "markdown",
   "metadata": {},
   "source": [
    "name_input = input(\"What is your name? \")"
   ]
  },
  {
   "cell_type": "code",
   "execution_count": 3,
   "metadata": {},
   "outputs": [],
   "source": [
    "number = random.randint(1,10)"
   ]
  },
  {
   "cell_type": "code",
   "execution_count": 6,
   "metadata": {},
   "outputs": [
    {
     "name": "stdout",
     "output_type": "stream",
     "text": [
      "Hello Jo, I am thinking of a number between 1 and 10...\n"
     ]
    }
   ],
   "source": [
    "print(\"Hello \" + name_input + \", I am thinking of a number between 1 and 10...\")"
   ]
  },
  {
   "cell_type": "code",
   "execution_count": 7,
   "metadata": {},
   "outputs": [
    {
     "name": "stdin",
     "output_type": "stream",
     "text": [
      "Would you care to take a guess? 5\n"
     ]
    }
   ],
   "source": [
    "guess = int(input(\"Would you care to take a guess?\"))"
   ]
  },
  {
   "cell_type": "code",
   "execution_count": 9,
   "metadata": {},
   "outputs": [
    {
     "name": "stdout",
     "output_type": "stream",
     "text": [
      "Ooops Jo, you guessed wrong.... better luck next time\n"
     ]
    }
   ],
   "source": [
    "if guess == number:\n",
    "    print(\"Amazing \" + name_input + \", you guessed my number!\")\n",
    "else:\n",
    "    print(\"Ooops \" + name_input + \", you guessed wrong.... better luck next time\")"
   ]
  },
  {
   "cell_type": "code",
   "execution_count": 10,
   "metadata": {},
   "outputs": [
    {
     "name": "stdin",
     "output_type": "stream",
     "text": [
      "What is your name?  Joshua Cox\n"
     ]
    },
    {
     "name": "stdout",
     "output_type": "stream",
     "text": [
      "Hello Joshua Cox, I am thinking of a number between 1 and 10...\n"
     ]
    },
    {
     "name": "stdin",
     "output_type": "stream",
     "text": [
      "Would you care to take a guess? 7\n"
     ]
    },
    {
     "name": "stdout",
     "output_type": "stream",
     "text": [
      "Ooops Joshua Cox, you guessed wrong.... better luck next time\n"
     ]
    }
   ],
   "source": [
    "import random\n",
    "name_input = input(\"What is your name? \")\n",
    "number = random.randint(1,10)\n",
    "print(\"Hello \" + name_input + \", I am thinking of a number between 1 and 10...\")\n",
    "guess = int(input(\"Would you care to take a guess?\"))\n",
    "if guess == number:\n",
    "    print(\"Amazing \" + name_input + \", you guessed my number!\")\n",
    "else:\n",
    "    print(\"Ooops \" + name_input + \", you guessed wrong.... better luck next time\")"
   ]
  }
 ],
 "metadata": {
  "kernelspec": {
   "display_name": "Python 3",
   "language": "python",
   "name": "python3"
  },
  "language_info": {
   "codemirror_mode": {
    "name": "ipython",
    "version": 3
   },
   "file_extension": ".py",
   "mimetype": "text/x-python",
   "name": "python",
   "nbconvert_exporter": "python",
   "pygments_lexer": "ipython3",
   "version": "3.8.5"
  }
 },
 "nbformat": 4,
 "nbformat_minor": 4
}
