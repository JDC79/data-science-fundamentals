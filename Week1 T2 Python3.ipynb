{
 "cells": [
  {
   "cell_type": "code",
   "execution_count": 1,
   "metadata": {},
   "outputs": [
    {
     "name": "stdin",
     "output_type": "stream",
     "text": [
      "What is your favourite number between 1 and 100?  3\n"
     ]
    }
   ],
   "source": [
    "number_input = input(\"What is your favourite number between 1 and 100? \")"
   ]
  },
  {
   "cell_type": "code",
   "execution_count": 11,
   "metadata": {},
   "outputs": [
    {
     "name": "stdout",
     "output_type": "stream",
     "text": [
      "Whats pink and spongy?\n"
     ]
    }
   ],
   "source": [
    "if number_input == 1: \n",
    "    print(\"Why did the chicken cross the road?\")\n",
    "elif number_input == 2:\n",
    "    print(\"What do you call a french sandal?\")\n",
    "else:\n",
    "    print(\"Whats pink and spongy?\")"
   ]
  },
  {
   "cell_type": "code",
   "execution_count": 12,
   "metadata": {},
   "outputs": [
    {
     "name": "stdin",
     "output_type": "stream",
     "text": [
      "What is your favourite number between 1 and 100?  5\n"
     ]
    },
    {
     "name": "stdout",
     "output_type": "stream",
     "text": [
      "Whats pink and spongy?\n"
     ]
    }
   ],
   "source": [
    "number_input = input(\"What is your favourite number between 1 and 100? \")\n",
    "if number_input == 1: \n",
    "    print(\"Why did the chicken cross the road?\")\n",
    "elif number_input == 2:\n",
    "    print(\"What do you call a french sandal?\")\n",
    "else:\n",
    "    print(\"Whats pink and spongy?\")"
   ]
  },
  {
   "cell_type": "code",
   "execution_count": null,
   "metadata": {},
   "outputs": [],
   "source": []
  }
 ],
 "metadata": {
  "kernelspec": {
   "display_name": "Python 3",
   "language": "python",
   "name": "python3"
  },
  "language_info": {
   "codemirror_mode": {
    "name": "ipython",
    "version": 3
   },
   "file_extension": ".py",
   "mimetype": "text/x-python",
   "name": "python",
   "nbconvert_exporter": "python",
   "pygments_lexer": "ipython3",
   "version": "3.8.5"
  }
 },
 "nbformat": 4,
 "nbformat_minor": 4
}
